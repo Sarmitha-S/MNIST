{
 "cells": [
  {
   "cell_type": "code",
   "execution_count": 1,
   "metadata": {},
   "outputs": [
    {
     "ename": "ModuleNotFoundError",
     "evalue": "No module named 'PIL'",
     "output_type": "error",
     "traceback": [
      "\u001b[0;31m---------------------------------------------------------------------------\u001b[0m",
      "\u001b[0;31mModuleNotFoundError\u001b[0m                       Traceback (most recent call last)",
      "\u001b[1;32m/Users/mac-22/Downloads/GUI-SVC.ipynb Cell 1'\u001b[0m in \u001b[0;36m<cell line: 3>\u001b[0;34m()\u001b[0m\n\u001b[1;32m      <a href='vscode-notebook-cell:/Users/mac-22/Downloads/GUI-SVC.ipynb#ch0000000?line=0'>1</a>\u001b[0m \u001b[39mfrom\u001b[39;00m \u001b[39mtkinter\u001b[39;00m \u001b[39mimport\u001b[39;00m \u001b[39m*\u001b[39m \n\u001b[1;32m      <a href='vscode-notebook-cell:/Users/mac-22/Downloads/GUI-SVC.ipynb#ch0000000?line=1'>2</a>\u001b[0m \u001b[39mimport\u001b[39;00m \u001b[39mtkinter\u001b[39;00m \u001b[39mas\u001b[39;00m \u001b[39mtk\u001b[39;00m\n\u001b[0;32m----> <a href='vscode-notebook-cell:/Users/mac-22/Downloads/GUI-SVC.ipynb#ch0000000?line=2'>3</a>\u001b[0m \u001b[39mfrom\u001b[39;00m \u001b[39mPIL\u001b[39;00m \u001b[39mimport\u001b[39;00m Image, ImageGrab, ImageOps\n\u001b[1;32m      <a href='vscode-notebook-cell:/Users/mac-22/Downloads/GUI-SVC.ipynb#ch0000000?line=3'>4</a>\u001b[0m \u001b[39mimport\u001b[39;00m \u001b[39mnumpy\u001b[39;00m \u001b[39mas\u001b[39;00m \u001b[39mnp\u001b[39;00m\n\u001b[1;32m      <a href='vscode-notebook-cell:/Users/mac-22/Downloads/GUI-SVC.ipynb#ch0000000?line=4'>5</a>\u001b[0m \u001b[39mimport\u001b[39;00m \u001b[39mjoblib\u001b[39;00m\n",
      "\u001b[0;31mModuleNotFoundError\u001b[0m: No module named 'PIL'"
     ]
    }
   ],
   "source": [
    "from tkinter import * \n",
    "import tkinter as tk\n",
    "from PIL import Image, ImageGrab, ImageOps\n",
    "import numpy as np\n",
    "import joblib"
   ]
  },
  {
   "cell_type": "markdown",
   "metadata": {},
   "source": [
    "## Load Trained Model"
   ]
  },
  {
   "cell_type": "code",
   "execution_count": null,
   "metadata": {},
   "outputs": [],
   "source": [
    "classifier2 = joblib.load('SVC_model.gzip')"
   ]
  },
  {
   "cell_type": "markdown",
   "metadata": {},
   "source": [
    "## GUI "
   ]
  },
  {
   "cell_type": "code",
   "execution_count": null,
   "metadata": {},
   "outputs": [],
   "source": [
    "class GUI(tk.Tk):\n",
    "    def __init__(self):\n",
    "        tk.Tk.__init__(self)\n",
    "        self.canvas_width = 200\n",
    "        self.canvas_height = 200\n",
    "        self.bg_color = \"White\"\n",
    "        self.paint_color = \"black\"\n",
    "        self.radius = 5\n",
    "        self.init_canvas()\n",
    "        \n",
    "    def init_canvas(self):\n",
    "        self.canvas = Canvas(self, width=self.canvas_width, height=self.canvas_width, bg = self.bg_color, cursor=\"cross\")\n",
    "        self.button_clear = tk.Button(self, text = \"Clear\", command = self.clear_all)\n",
    "        self.button_predict = tk.Button(self, text = \"Predict\", command = self.predict)\n",
    "        self.label_digit = tk.Label(self, text=\"\", font=(\"Helvetica\"))\n",
    "        self.canvas.grid(row=0, column=0, pady=2, sticky=W, )\n",
    "        self.button_clear.grid(row=1, column=0, pady=2)\n",
    "        self.button_predict.grid(row=1, column=1, pady=2)\n",
    "        self.label_digit.grid(row=0, column=1, padx=2, pady=2)\n",
    "        self.canvas.bind(\"<B1-Motion>\", self.paint)\n",
    "\n",
    "    def paint(self, event):\n",
    "        x1, y1 = (event.x - self.radius), (event.y - self.radius)\n",
    "        x2, y2 = (event.x + self.radius), (event.y + self.radius)\n",
    "        self.canvas.create_oval(x1, y1, x2, y2, fill=self.paint_color, outline=self.paint_color)\n",
    "\n",
    "    def clear_all(self):\n",
    "        self.canvas.delete(\"all\")\n",
    "    \n",
    "    def preprocess(self):\n",
    "        fileName = 'canvas_paint'\n",
    "        \n",
    "        # Find Canvas Coordinates\n",
    "        x = self.canvas.winfo_x() + self.winfo_x() + 52\n",
    "        y = self.canvas.winfo_y() + self.winfo_y() + 77\n",
    "        x1 = x + self.canvas_width\n",
    "        y1 = y + self.canvas_height\n",
    "        \n",
    "        # Screenshot and Save Image in Canvas\n",
    "        img = ImageGrab.grab().crop((x,y,x1,y1))\n",
    "        img.save(fileName + \".jpg\")\n",
    "        \n",
    "        # Invert Image\n",
    "        img = ImageOps.invert(img)\n",
    "        img.save(fileName + \"_negative\" + \".jpg\")\n",
    "        \n",
    "        # Resize and convert it into greyscale\n",
    "        img = img.resize((28,28))\n",
    "        img = img.convert('L')\n",
    "        img.save(fileName + \"_28x28\" + \".jpg\")\n",
    "        \n",
    "        # Convert it into Numpy array\n",
    "        img = np.array(img)\n",
    "        img = img.reshape(28*28)\n",
    "        print(\"Pre Processing complete\")\n",
    "        return img\n",
    "    \n",
    "    def predict(self):\n",
    "        img = self.preprocess()\n",
    "        digit = classifier2.predict([img])\n",
    "        self.label_digit.configure(text=str(digit))\n",
    "        "
   ]
  },
  {
   "cell_type": "code",
   "execution_count": null,
   "metadata": {},
   "outputs": [
    {
     "name": "stdout",
     "output_type": "stream",
     "text": [
      "Pre Processing complete\n",
      "Pre Processing complete\n",
      "Pre Processing complete\n",
      "Pre Processing complete\n",
      "Pre Processing complete\n",
      "Pre Processing complete\n",
      "Pre Processing complete\n",
      "Pre Processing complete\n"
     ]
    }
   ],
   "source": [
    "app = GUI()\n",
    "mainloop()"
   ]
  },
  {
   "cell_type": "code",
   "execution_count": null,
   "metadata": {},
   "outputs": [],
   "source": []
  }
 ],
 "metadata": {
  "kernelspec": {
   "display_name": "Python 3",
   "language": "python",
   "name": "python3"
  },
  "language_info": {
   "codemirror_mode": {
    "name": "ipython",
    "version": 3
   },
   "file_extension": ".py",
   "mimetype": "text/x-python",
   "name": "python",
   "nbconvert_exporter": "python",
   "pygments_lexer": "ipython3",
   "version": "3.10.2"
  }
 },
 "nbformat": 4,
 "nbformat_minor": 2
}
